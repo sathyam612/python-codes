{
 "cells": [
  {
   "cell_type": "code",
   "execution_count": 1,
   "id": "a4a966a2",
   "metadata": {},
   "outputs": [
    {
     "name": "stdout",
     "output_type": "stream",
     "text": [
      "Enter the number of elements:7\n",
      "Enter the number:1\n",
      "Enter the number:2\n",
      "Enter the number:3\n",
      "Enter the number:4\n",
      "Enter the number:5\n",
      "Enter the number:6\n",
      "Enter the number:7\n",
      "the original array is: [1, 2, 3, 4, 5, 6, 7]\n",
      "the reverse array is: [7, 6, 5, 4, 3, 2, 1]\n"
     ]
    }
   ],
   "source": [
    "arr=[]\n",
    "n=int(input('Enter the number of elements:'))\n",
    "for k in range(n):\n",
    "    number=int(input(\"Enter the number:\"))\n",
    "    arr.append(number)\n",
    "print(\"the original array is:\",arr)\n",
    "start=0\n",
    "end=len(arr)-1\n",
    "while start<end:\n",
    "    arr[start],arr[end]=arr[end],arr[start]\n",
    "    start+=1\n",
    "    end-=1\n",
    "print(\"the reverse array is:\",arr)"
   ]
  }
 ],
 "metadata": {
  "kernelspec": {
   "display_name": "Python 3 (ipykernel)",
   "language": "python",
   "name": "python3"
  },
  "language_info": {
   "codemirror_mode": {
    "name": "ipython",
    "version": 3
   },
   "file_extension": ".py",
   "mimetype": "text/x-python",
   "name": "python",
   "nbconvert_exporter": "python",
   "pygments_lexer": "ipython3",
   "version": "3.9.7"
  }
 },
 "nbformat": 4,
 "nbformat_minor": 5
}
