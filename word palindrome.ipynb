{
 "cells": [
  {
   "cell_type": "code",
   "execution_count": 2,
   "metadata": {},
   "outputs": [
    {
     "name": "stdout",
     "output_type": "stream",
     "text": [
      "enter the word to reverse: malayalam\n",
      "the reverse word is: malayalam\n",
      "it is a palindrome\n"
     ]
    }
   ],
   "source": [
    "word = input(\"enter the word to reverse: \")\n",
    "n = len(word)\n",
    "for i in range(0,n):\n",
    "    reverse_word = word[::-1]\n",
    "print(\"the reverse word is:\",reverse_word,)\n",
    "if reverse_word==word:\n",
    "    print(\"it is a palindrome\")"
   ]
  },
  {
   "cell_type": "code",
   "execution_count": null,
   "metadata": {},
   "outputs": [],
   "source": []
  }
 ],
 "metadata": {
  "kernelspec": {
   "display_name": "Python 3",
   "language": "python",
   "name": "python3"
  },
  "language_info": {
   "codemirror_mode": {
    "name": "ipython",
    "version": 3
   },
   "file_extension": ".py",
   "mimetype": "text/x-python",
   "name": "python",
   "nbconvert_exporter": "python",
   "pygments_lexer": "ipython3",
   "version": "3.8.3"
  }
 },
 "nbformat": 4,
 "nbformat_minor": 4
}
