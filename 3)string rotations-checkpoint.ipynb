{
 "cells": [
  {
   "cell_type": "code",
   "execution_count": 5,
   "id": "bd5fa9fa",
   "metadata": {},
   "outputs": [
    {
     "name": "stdout",
     "output_type": "stream",
     "text": [
      "abcd\n",
      "bcd\n",
      "strings are rotations of each other\n"
     ]
    }
   ],
   "source": [
    "def are_rotations(str1,str2):\n",
    "    length1=len(str1)\n",
    "    length2=len(str2)\n",
    "    temp=''\n",
    "    if length1!=length2:\n",
    "        return 1\n",
    "    temp=str1+str1\n",
    "    if(temp.count(str2)>0):\n",
    "        return 1\n",
    "    else:\n",
    "        return 0\n",
    "str1=input().upper()\n",
    "str2=input().upper()\n",
    "if are_rotations(str1,str2):\n",
    "    print(\"strings are rotations of each other\")\n",
    "else:\n",
    "    print(\"strings are not rotations of each other\")"
   ]
  },
  {
   "cell_type": "code",
   "execution_count": null,
   "id": "b314021a",
   "metadata": {},
   "outputs": [],
   "source": []
  }
 ],
 "metadata": {
  "kernelspec": {
   "display_name": "Python 3 (ipykernel)",
   "language": "python",
   "name": "python3"
  },
  "language_info": {
   "codemirror_mode": {
    "name": "ipython",
    "version": 3
   },
   "file_extension": ".py",
   "mimetype": "text/x-python",
   "name": "python",
   "nbconvert_exporter": "python",
   "pygments_lexer": "ipython3",
   "version": "3.9.7"
  }
 },
 "nbformat": 4,
 "nbformat_minor": 5
}
