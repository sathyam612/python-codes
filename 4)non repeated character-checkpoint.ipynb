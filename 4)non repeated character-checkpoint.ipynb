{
 "cells": [
  {
   "cell_type": "code",
   "execution_count": null,
   "id": "985aa6d3",
   "metadata": {},
   "outputs": [],
   "source": [
    "from collections import Counter\n",
    "def printNonrepeated(string):\n",
    "    freq = Counter(string)\n",
    "    for i in string:\n",
    "        if(freq[i] == 1):\n",
    "            print(i)\n",
    "            break\n",
    "string = input()\n",
    "printNonrepeated(string)"
   ]
  }
 ],
 "metadata": {
  "kernelspec": {
   "display_name": "Python 3 (ipykernel)",
   "language": "python",
   "name": "python3"
  },
  "language_info": {
   "codemirror_mode": {
    "name": "ipython",
    "version": 3
   },
   "file_extension": ".py",
   "mimetype": "text/x-python",
   "name": "python",
   "nbconvert_exporter": "python",
   "pygments_lexer": "ipython3",
   "version": "3.9.7"
  }
 },
 "nbformat": 4,
 "nbformat_minor": 5
}
