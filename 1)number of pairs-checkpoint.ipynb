{
 "cells": [
  {
   "cell_type": "code",
   "execution_count": 7,
   "id": "01134fa3",
   "metadata": {},
   "outputs": [
    {
     "name": "stdout",
     "output_type": "stream",
     "text": [
      "Enter the number of elements:6\n",
      "-1\n",
      "2\n",
      "3\n",
      "4\n",
      "5\n",
      "6\n",
      "4\n",
      "the number of pairs is: 1\n"
     ]
    }
   ],
   "source": [
    "import array as arr\n",
    "def pairs_count(arr,n,num):\n",
    "    count=0\n",
    "    for i in range(0,n):\n",
    "        for j in range(i+1,n):\n",
    "            if arr[i]+arr[j]==num:\n",
    "                count+=1\n",
    "    return count\n",
    "n=int(input('Enter the number of elements:'))\n",
    "a=arr.array('i',[int(input()) for k in range(n)])\n",
    "num=int(input())\n",
    "print(\"the number of pairs is:\",pairs_count(a,n,num))"
   ]
  },
  {
   "cell_type": "code",
   "execution_count": null,
   "id": "906b5432",
   "metadata": {},
   "outputs": [],
   "source": []
  }
 ],
 "metadata": {
  "kernelspec": {
   "display_name": "Python 3 (ipykernel)",
   "language": "python",
   "name": "python3"
  },
  "language_info": {
   "codemirror_mode": {
    "name": "ipython",
    "version": 3
   },
   "file_extension": ".py",
   "mimetype": "text/x-python",
   "name": "python",
   "nbconvert_exporter": "python",
   "pygments_lexer": "ipython3",
   "version": "3.9.7"
  }
 },
 "nbformat": 4,
 "nbformat_minor": 5
}
