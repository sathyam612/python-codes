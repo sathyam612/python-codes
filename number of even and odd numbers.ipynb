{
 "cells": [
  {
   "cell_type": "code",
   "execution_count": 1,
   "metadata": {},
   "outputs": [
    {
     "name": "stdout",
     "output_type": "stream",
     "text": [
      "total even numbers are: 4\n",
      "total odd numbers are: 4\n"
     ]
    }
   ],
   "source": [
    "number_list = [1,2,3,4,5,6,78,79]\n",
    "number_of_even_numbers=0\n",
    "number_of_odd_numbers=0\n",
    "for index in number_list:\n",
    "    if index % 2 == 0:\n",
    "        number_of_even_numbers += 1\n",
    "    else:\n",
    "        number_of_odd_numbers += 1\n",
    "print(\"total even numbers are:\",number_of_even_numbers)\n",
    "print(\"total odd numbers are:\",number_of_odd_numbers)\n",
    "\n"
   ]
  },
  {
   "cell_type": "code",
   "execution_count": null,
   "metadata": {},
   "outputs": [],
   "source": []
  },
  {
   "cell_type": "code",
   "execution_count": null,
   "metadata": {},
   "outputs": [],
   "source": []
  }
 ],
 "metadata": {
  "kernelspec": {
   "display_name": "Python 3",
   "language": "python",
   "name": "python3"
  },
  "language_info": {
   "codemirror_mode": {
    "name": "ipython",
    "version": 3
   },
   "file_extension": ".py",
   "mimetype": "text/x-python",
   "name": "python",
   "nbconvert_exporter": "python",
   "pygments_lexer": "ipython3",
   "version": "3.8.3"
  }
 },
 "nbformat": 4,
 "nbformat_minor": 4
}
