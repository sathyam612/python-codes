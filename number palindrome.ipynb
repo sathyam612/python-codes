{
 "cells": [
  {
   "cell_type": "code",
   "execution_count": 2,
   "metadata": {},
   "outputs": [
    {
     "name": "stdout",
     "output_type": "stream",
     "text": [
      "enter the number to reverse: 465564\n",
      "the reverse number is: 465564\n",
      "it is a palindrome\n"
     ]
    }
   ],
   "source": [
    "number = input(\"enter the number to reverse: \")\n",
    "n = len(number)\n",
    "for i in range(0,n):\n",
    "    reverse_number = number[::-1]\n",
    "print(\"the reverse number is:\",reverse_number)\n",
    "if reverse_number==number:\n",
    "    print(\"it is a palindrome\")"
   ]
  },
  {
   "cell_type": "code",
   "execution_count": null,
   "metadata": {},
   "outputs": [],
   "source": []
  }
 ],
 "metadata": {
  "kernelspec": {
   "display_name": "Python 3",
   "language": "python",
   "name": "python3"
  },
  "language_info": {
   "codemirror_mode": {
    "name": "ipython",
    "version": 3
   },
   "file_extension": ".py",
   "mimetype": "text/x-python",
   "name": "python",
   "nbconvert_exporter": "python",
   "pygments_lexer": "ipython3",
   "version": "3.8.3"
  }
 },
 "nbformat": 4,
 "nbformat_minor": 4
}
